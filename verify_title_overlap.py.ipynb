{
 "cells": [
  {
   "cell_type": "markdown",
   "metadata": {
    "collapsed": true
   },
   "source": [
    "There were Chocano sonnets in DISCO already. Verify overlap with new ones.\n",
    "\n",
    "Verify the title overlap automatically and then read the texts for matching titles.\n"
   ]
  },
  {
   "cell_type": "code",
   "execution_count": 1,
   "metadata": {},
   "outputs": [],
   "source": [
    "import json\n",
    "import re"
   ]
  },
  {
   "cell_type": "code",
   "execution_count": 2,
   "metadata": {},
   "outputs": [],
   "source": [
    "old_chocano_texts = \"/home/ruizfabo/projects/pd/projects/potes/hispanistentag23_mod_git/chocano_old.txt\""
   ]
  },
  {
   "cell_type": "code",
   "execution_count": 3,
   "metadata": {},
   "outputs": [],
   "source": [
    "new_chocano_texts = \"/home/ruizfabo/projects/pd/projects/potes/disco_private_2022/disco_private/hispanistentag2023/out/debug_groups_c\""
   ]
  },
  {
   "cell_type": "code",
   "execution_count": 4,
   "metadata": {},
   "outputs": [],
   "source": [
    "with open(old_chocano_texts) as cfile:\n",
    "    c_txt = cfile.read()\n",
    "    old_chocano_titles = [x.replace(\"$\", \"\").strip() for x in re.findall(\n",
    "        re.compile(r\"^\\$[^\\n]+$\", re.M), c_txt)]\n"
   ]
  },
  {
   "cell_type": "code",
   "execution_count": 6,
   "metadata": {},
   "outputs": [],
   "source": [
    "with open(new_chocano_texts) as ncfile:\n",
    "    txt = ncfile.read()\n",
    "    new_titles = re.findall(re.compile(r\"'item_title': '([^']+)'\"), txt)"
   ]
  },
  {
   "cell_type": "code",
   "execution_count": 12,
   "metadata": {
    "collapsed": true
   },
   "outputs": [
    {
     "data": {
      "text/plain": [
       "['El sol y la luna',\n",
       " 'Seno de reina',\n",
       " 'El sueño del caimán',\n",
       " 'Blasón',\n",
       " 'El sueño del cóndor',\n",
       " 'La magnolia',\n",
       " 'Las orquídeas',\n",
       " 'I',\n",
       " 'II',\n",
       " 'III',\n",
       " 'Troquel',\n",
       " 'Los volcanes',\n",
       " 'Rubia',\n",
       " 'El elogio del quetzal',\n",
       " 'Ciudad dormida',\n",
       " 'En la brecha',\n",
       " 'Las aves',\n",
       " 'Los conquistadores',\n",
       " 'Símbolo',\n",
       " 'Las punas',\n",
       " 'Los ríos',\n",
       " 'Los lagos',\n",
       " 'El Estrecho de Magallanes',\n",
       " 'Caupolicán',\n",
       " 'El añil',\n",
       " 'Los cocuyos',\n",
       " 'La visión del cóndor',\n",
       " 'La frase de Cortés',\n",
       " 'La quena',\n",
       " 'La noche de los Andes',\n",
       " 'Ciudad vieja',\n",
       " 'La musa fuerte',\n",
       " 'Cuadro final',\n",
       " 'La última vez',\n",
       " 'Soneto gráfico',\n",
       " 'El soneto roto',\n",
       " 'I',\n",
       " 'II',\n",
       " 'III',\n",
       " 'IV',\n",
       " 'Inmaculada',\n",
       " 'Tarde antillana',\n",
       " 'El bohío',\n",
       " 'El madrigal de las rosas',\n",
       " 'Pétalos sueltos',\n",
       " 'Flor de una hora',\n",
       " 'Oblación',\n",
       " 'La gloria del proceso',\n",
       " 'Canto al río Magdalena',\n",
       " 'Ahora es dolor']"
      ]
     },
     "execution_count": 12,
     "metadata": {},
     "output_type": "execute_result"
    }
   ],
   "source": [
    "old_chocano_titles"
   ]
  },
  {
   "cell_type": "code",
   "execution_count": 7,
   "metadata": {
    "collapsed": true
   },
   "outputs": [
    {
     "data": {
      "text/plain": [
       "['HEROÍSMO',\n",
       " 'GRITO DE JOB',\n",
       " 'AMOR MUERTO',\n",
       " 'ARQUEOLOGÍA',\n",
       " 'PRAXITÉLICA',\n",
       " 'COPA DE ORO',\n",
       " '¡SILENCIO!',\n",
       " 'EL ALMA INMÓVIL',\n",
       " 'I',\n",
       " 'II',\n",
       " 'EN LA BRECHA',\n",
       " 'I',\n",
       " 'II',\n",
       " 'EN LA MAZMORRA',\n",
       " 'II',\n",
       " 'IV',\n",
       " 'VII',\n",
       " 'X',\n",
       " 'MARINA',\n",
       " 'CUADRO VIVO',\n",
       " 'LA QUEBRADA',\n",
       " 'EL MORRO',\n",
       " 'LA ISLA',\n",
       " 'LAS AVES',\n",
       " 'PLAYERA',\n",
       " 'LA LAGUNA',\n",
       " 'EL GALGO',\n",
       " 'LA ESPIGA',\n",
       " 'EL ARADO',\n",
       " 'EL POEMA DE LAS FRUTAS',\n",
       " 'LA CULEBRA',\n",
       " 'EL SAPO',\n",
       " 'PROCESIÓN DE RAMOS',\n",
       " 'EL BUEY',\n",
       " 'EL MAESTRO DE ESCUELA',\n",
       " 'LOS MOLINOS',\n",
       " 'EL MONUMENTO',\n",
       " 'ÁRBOLES VIEJOS',\n",
       " '¡GLORIA!',\n",
       " 'EN EL SALÓN',\n",
       " 'EN LA ALCOBA',\n",
       " 'EN EL COMEDOR',\n",
       " 'HÉROES OCULTOS',\n",
       " 'PROBLEMA',\n",
       " 'CUASIMODO',\n",
       " 'A UN ASNO',\n",
       " 'EL CABALLO AGRICULTOR',\n",
       " 'EL PILLUELO',\n",
       " 'EL PESCADOR',\n",
       " 'EL ARROYO',\n",
       " 'ACUARELA',\n",
       " 'LA CARRETERA',\n",
       " 'ULTRATUMBA',\n",
       " 'LA TEMPORADA',\n",
       " 'RESURRECCIÓN',\n",
       " 'EL SUSPIRO',\n",
       " 'EL REGRESO',\n",
       " 'LA VOZ DE LA SELVA',\n",
       " 'I',\n",
       " 'II',\n",
       " 'III',\n",
       " 'OJOS AZULES',\n",
       " 'PESIMISMO',\n",
       " 'DESPRECIO',\n",
       " 'PARA UN DESDÉN FINGIDO',\n",
       " 'PUNTO FINAL',\n",
       " 'DECLAMATORIA',\n",
       " 'EN EL DIVÁN',\n",
       " 'ESTATUA DE SAL',\n",
       " 'RESURREXIT',\n",
       " 'I',\n",
       " 'II',\n",
       " '¡QUÉ IMPORTA!',\n",
       " 'PROTESTA',\n",
       " 'VÍCTIMA',\n",
       " 'CONTRA NATURA',\n",
       " 'EL PEGASO ANTE EL POETA',\n",
       " 'I',\n",
       " 'II',\n",
       " 'LAS DOS ESCANCIADORAS',\n",
       " '¡NO ES DEMÁS!',\n",
       " 'BUSTO DE DAMA',\n",
       " 'BAJO RELIEVE DE HÉROE',\n",
       " 'ÁGUILAS Y GORRIONES',\n",
       " 'LA DOLIENTE BELLEZA']"
      ]
     },
     "execution_count": 7,
     "metadata": {},
     "output_type": "execute_result"
    }
   ],
   "source": [
    "new_titles"
   ]
  },
  {
   "cell_type": "code",
   "execution_count": 8,
   "metadata": {},
   "outputs": [],
   "source": [
    "intersection = set([x.lower() for x in old_chocano_titles]).intersection(set([y.lower() for y in new_titles]))"
   ]
  },
  {
   "cell_type": "code",
   "execution_count": 9,
   "metadata": {},
   "outputs": [
    {
     "data": {
      "text/plain": [
       "{'en la brecha', 'i', 'ii', 'iii', 'iv', 'las aves'}"
      ]
     },
     "execution_count": 9,
     "metadata": {},
     "output_type": "execute_result"
    }
   ],
   "source": [
    "intersection"
   ]
  },
  {
   "cell_type": "markdown",
   "metadata": {},
   "source": [
    "- En la brecha: keep the new one, it's a sequence and the old version only had the first sonnet in the sequence\n",
    "- Las aves: keep the old one\n",
    "- The ones with roman numerals: the text is not the same\n"
   ]
  }
 ],
 "metadata": {
  "kernelspec": {
   "display_name": "Python 3 (ipykernel)",
   "language": "python",
   "name": "python3"
  },
  "language_info": {
   "codemirror_mode": {
    "name": "ipython",
    "version": 3
   },
   "file_extension": ".py",
   "mimetype": "text/x-python",
   "name": "python",
   "nbconvert_exporter": "python",
   "pygments_lexer": "ipython3",
   "version": "3.9.12"
  }
 },
 "nbformat": 4,
 "nbformat_minor": 1
}
